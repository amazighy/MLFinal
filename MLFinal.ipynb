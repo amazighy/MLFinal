{
  "nbformat": 4,
  "nbformat_minor": 0,
  "metadata": {
    "colab": {
      "name": "MLFinal.ipynb",
      "provenance": [],
      "authorship_tag": "ABX9TyPT39AsbdCB1goGiKCO0azG",
      "include_colab_link": true
    },
    "kernelspec": {
      "name": "python3",
      "display_name": "Python 3"
    }
  },
  "cells": [
    {
      "cell_type": "markdown",
      "metadata": {
        "id": "view-in-github",
        "colab_type": "text"
      },
      "source": [
        "<a href=\"https://colab.research.google.com/github/amazighy/MLFinal/blob/main/MLFinal.ipynb\" target=\"_parent\"><img src=\"https://colab.research.google.com/assets/colab-badge.svg\" alt=\"Open In Colab\"/></a>"
      ]
    },
    {
      "cell_type": "code",
      "metadata": {
        "id": "56koklsklXQQ"
      },
      "source": [
        ""
      ],
      "execution_count": null,
      "outputs": []
    },
    {
      "cell_type": "markdown",
      "metadata": {
        "id": "GRL2wv3jnia0"
      },
      "source": [
        "Just updated this notebook"
      ]
    },
    {
      "cell_type": "markdown",
      "metadata": {
        "id": "8x_6NMIPpPaC"
      },
      "source": [
        "this is the swcond commit"
      ]
    },
    {
      "cell_type": "code",
      "metadata": {
        "id": "A45K5NnDpJpe"
      },
      "source": [
        ""
      ],
      "execution_count": null,
      "outputs": []
    }
  ]
}